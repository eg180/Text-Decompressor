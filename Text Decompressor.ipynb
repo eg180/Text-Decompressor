{
 "cells": [
  {
   "cell_type": "markdown",
   "metadata": {},
   "source": [
    "## Text Decompressor"
   ]
  },
  {
   "cell_type": "markdown",
   "metadata": {},
   "source": [
    "###### This exercise was found on Sololearn's app. My solution is below.\n",
    "\n",
    "The task is to decompress text.\n",
    "\n",
    "The compressed version has a **number** next to each symbol/letter, representing the number of times that symbol<br>\n",
    "should appear.\n",
    "\n",
    "For example:<br>\n",
    ">**a2b3** is the compressed version of **aabbb**\n",
    "\n",
    "#### Task\n",
    "\n",
    "We will write a program that takes the compressed text as an input, then outputs the decompressed version.\n",
    "\n",
    "#### Input Format:\n",
    "\n",
    "A single string with letters/symbols, each followed by a number.\n",
    "\n",
    "#### Output Format:\n",
    "A string, representing the decompressed text.\n",
    "\n",
    "#### Sample Input:\n",
    "k2&4b1\n",
    "\n",
    "#### Desired Output (given the Sample Input):\n",
    "kk&&&&b"
   ]
  },
  {
   "cell_type": "markdown",
   "metadata": {},
   "source": [
    "### Solution\n",
    "by eg180"
   ]
  },
  {
   "cell_type": "markdown",
   "metadata": {},
   "source": [
    "First, we need a string of characters to decode. Of course we could have Python randomly generate this, but we can also just create our own and save it in a variable named *compressedText.* \n",
    "\n",
    "Creating our own string of characters to decode is fine for our purposes as we simply need to ensure that the solution can transform *k2&4b1* to *kk&&&&b*"
   ]
  },
  {
   "cell_type": "code",
   "execution_count": 211,
   "metadata": {},
   "outputs": [],
   "source": [
    "compressedText = \"k2&4b1\" # A letter or symbol followed by a number. \n",
    "# Each letter or symbol will be be 'decompressed' and appear as many times.\n"
   ]
  },
  {
   "cell_type": "code",
   "execution_count": 212,
   "metadata": {},
   "outputs": [
    {
     "name": "stdout",
     "output_type": "stream",
     "text": [
      "Symbols and letters in compressedText: []\n",
      "Numbers in compressedText: []\n"
     ]
    }
   ],
   "source": [
    "\n",
    "symbolOrLetterList = [] # This is to store the string in compressedText for symbols or letters.\n",
    "numberList = [] # This is to store the string in compressedText for numbers.\n",
    "\n",
    "print(\"Symbols and letters in compressedText:\", symbolOrLetterList)\n",
    "print(\"Numbers in compressedText:\", numberList)"
   ]
  },
  {
   "cell_type": "markdown",
   "metadata": {},
   "source": [
    "They're currently empty.<br>\n",
    "Let's fill them up."
   ]
  },
  {
   "cell_type": "code",
   "execution_count": 213,
   "metadata": {},
   "outputs": [
    {
     "name": "stdout",
     "output_type": "stream",
     "text": [
      "['k', '&', 'b']\n"
     ]
    }
   ],
   "source": [
    "for sl in compressedText[::2]: # for every other Symbol or Letter stored in the variable compressedText...\n",
    "    symbolOrLetterList.extend(sl) # add it to symbolOrLetterList\n",
    "\n",
    "print(symbolOrLetterList)"
   ]
  },
  {
   "cell_type": "markdown",
   "metadata": {},
   "source": [
    "The *2* shown above simply tells Python that after the first character in the list, hop to the second one, and then the second one after that, etc.\n",
    "\n",
    "Why every other character? Because when we look at compressedText, the pattern is:\n",
    ">LETTER/SYMBOL then a NUMBER\n",
    "\n",
    "\n",
    "Let's take a look at our list now that we've created with a loop:"
   ]
  },
  {
   "cell_type": "code",
   "execution_count": 214,
   "metadata": {},
   "outputs": [
    {
     "name": "stdout",
     "output_type": "stream",
     "text": [
      "['k', '&', 'b']\n"
     ]
    }
   ],
   "source": [
    "print(symbolOrLetterList)"
   ]
  },
  {
   "cell_type": "markdown",
   "metadata": {},
   "source": [
    "Now, let's draw the numbers out of compressedText."
   ]
  },
  {
   "cell_type": "code",
   "execution_count": 215,
   "metadata": {},
   "outputs": [],
   "source": [
    "for i in compressedText[1::2]: # for every other character, starting at index 1...\n",
    "# (which is actually the second character)...\n",
    "    numberList.extend(i) # ...add it to numberList"
   ]
  },
  {
   "cell_type": "markdown",
   "metadata": {},
   "source": [
    "Now we have our list of numbers:"
   ]
  },
  {
   "cell_type": "code",
   "execution_count": 216,
   "metadata": {},
   "outputs": [
    {
     "name": "stdout",
     "output_type": "stream",
     "text": [
      "['2', '4', '1']\n"
     ]
    }
   ],
   "source": [
    "print(numberList)"
   ]
  },
  {
   "cell_type": "markdown",
   "metadata": {},
   "source": [
    "Awesome! So now we have our letters and numbers, so we now just need to multiply, in turn, each element of the lists.\n",
    "\n",
    "For example, *a* will be multipled by *2*, ! will be multipled by 4\", etc."
   ]
  },
  {
   "cell_type": "markdown",
   "metadata": {},
   "source": [
    "Let's look at the lists together so it's easier to see:"
   ]
  },
  {
   "cell_type": "code",
   "execution_count": 217,
   "metadata": {},
   "outputs": [
    {
     "name": "stdout",
     "output_type": "stream",
     "text": [
      "['k', '&', 'b']\n",
      "['2', '4', '1']\n"
     ]
    }
   ],
   "source": [
    "print(symbolOrLetterList)\n",
    "print(numberList)"
   ]
  },
  {
   "cell_type": "markdown",
   "metadata": {},
   "source": [
    "Let's get started multiplying these. We have a couple of options.\n",
    "\n",
    "We want to multiply the first element in one list with the first element of the other. \n",
    "\n",
    "Here's how to access the first element of each list:\n"
   ]
  },
  {
   "cell_type": "code",
   "execution_count": 218,
   "metadata": {},
   "outputs": [
    {
     "data": {
      "text/plain": [
       "'k'"
      ]
     },
     "execution_count": 218,
     "metadata": {},
     "output_type": "execute_result"
    }
   ],
   "source": [
    "symbolOrLetterList[0] # Putting '0' between brackets tells Python to get the item at the first index."
   ]
  },
  {
   "cell_type": "markdown",
   "metadata": {},
   "source": [
    "Now, let's get the first element from the other list:"
   ]
  },
  {
   "cell_type": "code",
   "execution_count": 219,
   "metadata": {},
   "outputs": [
    {
     "data": {
      "text/plain": [
       "'2'"
      ]
     },
     "execution_count": 219,
     "metadata": {},
     "output_type": "execute_result"
    }
   ],
   "source": [
    "numberList[0]"
   ]
  },
  {
   "cell_type": "markdown",
   "metadata": {},
   "source": [
    "Can we now multiply them?"
   ]
  },
  {
   "cell_type": "code",
   "execution_count": 220,
   "metadata": {},
   "outputs": [],
   "source": [
    "# symbolOrLetterList[0] * numberList[0]"
   ]
  },
  {
   "cell_type": "markdown",
   "metadata": {},
   "source": [
    "No. \n",
    "\n",
    "Apparently we cannot multiply a letter by a letter.\n",
    "\n",
    "Yes, '2' looks like a number, but it is actually being treated as a non-integer. In other words, it's currently a 'string' in Python's eyes. What we've done is ask Python to do something like \"multiply a letter times a letter\", which it doesn't understand."
   ]
  },
  {
   "cell_type": "markdown",
   "metadata": {},
   "source": [
    "To demonstrate how Python sees the character, we can use a function called **type()**. We only need put our variable in the brackets to understand:"
   ]
  },
  {
   "cell_type": "code",
   "execution_count": 221,
   "metadata": {},
   "outputs": [
    {
     "data": {
      "text/plain": [
       "str"
      ]
     },
     "execution_count": 221,
     "metadata": {},
     "output_type": "execute_result"
    }
   ],
   "source": [
    "type(numberList[0]) # We surrounded our variable with the function type() and we receive 'str' as the output."
   ]
  },
  {
   "cell_type": "markdown",
   "metadata": {},
   "source": [
    "**str** means that it's a 'string', which simply means that it's not an integer.\n",
    "\n",
    "Can we convert it? Yes - we simply need to use a function to convert it to an integer:\n",
    ">int() \n",
    "\n",
    "Let's take a look:"
   ]
  },
  {
   "cell_type": "code",
   "execution_count": 222,
   "metadata": {},
   "outputs": [
    {
     "data": {
      "text/plain": [
       "str"
      ]
     },
     "execution_count": 222,
     "metadata": {},
     "output_type": "execute_result"
    }
   ],
   "source": [
    "character = '2'\n",
    "type(character)"
   ]
  },
  {
   "cell_type": "markdown",
   "metadata": {},
   "source": [
    "So we see it's of type 'str', or 'string'. Let's convert to a number, or 'int', so we can do math with it!"
   ]
  },
  {
   "cell_type": "code",
   "execution_count": 223,
   "metadata": {},
   "outputs": [],
   "source": [
    "integerTwo = int(character) # converted the 'str' to type 'int'"
   ]
  },
  {
   "cell_type": "markdown",
   "metadata": {},
   "source": [
    "Let's see if Python sees it as an integer now:"
   ]
  },
  {
   "cell_type": "code",
   "execution_count": 224,
   "metadata": {},
   "outputs": [
    {
     "data": {
      "text/plain": [
       "int"
      ]
     },
     "execution_count": 224,
     "metadata": {},
     "output_type": "execute_result"
    }
   ],
   "source": [
    "type(integerTwo)"
   ]
  },
  {
   "cell_type": "markdown",
   "metadata": {},
   "source": [
    "Let's return to our previous example where we tried multiply the first element of each list. We can use our **int()** function to make it work!"
   ]
  },
  {
   "cell_type": "code",
   "execution_count": 225,
   "metadata": {},
   "outputs": [
    {
     "data": {
      "text/plain": [
       "'kk'"
      ]
     },
     "execution_count": 225,
     "metadata": {},
     "output_type": "execute_result"
    }
   ],
   "source": [
    "symbolOrLetterList[0] * int(numberList[0])"
   ]
  },
  {
   "cell_type": "markdown",
   "metadata": {},
   "source": [
    "Awesome! It worked. We could continue doing this for the other two, but the output won't give us the response in the desireable format, which would be:\n",
    "> kk&&&&b\n",
    "\n",
    "Let's take a look:"
   ]
  },
  {
   "cell_type": "code",
   "execution_count": 226,
   "metadata": {},
   "outputs": [
    {
     "data": {
      "text/plain": [
       "'kk'"
      ]
     },
     "execution_count": 226,
     "metadata": {},
     "output_type": "execute_result"
    }
   ],
   "source": [
    "symbolOrLetterList[0] * int(numberList[0]) # multiples first element of the lists."
   ]
  },
  {
   "cell_type": "code",
   "execution_count": 227,
   "metadata": {},
   "outputs": [
    {
     "data": {
      "text/plain": [
       "'&&&&'"
      ]
     },
     "execution_count": 227,
     "metadata": {},
     "output_type": "execute_result"
    }
   ],
   "source": [
    "symbolOrLetterList[1] * int(numberList[1]) # multiplies second element of the lists."
   ]
  },
  {
   "cell_type": "code",
   "execution_count": 228,
   "metadata": {},
   "outputs": [
    {
     "data": {
      "text/plain": [
       "'b'"
      ]
     },
     "execution_count": 228,
     "metadata": {},
     "output_type": "execute_result"
    }
   ],
   "source": [
    "symbolOrLetterList[2] * int(numberList[2]) # multiples third element of the lists."
   ]
  },
  {
   "cell_type": "markdown",
   "metadata": {},
   "source": [
    "I suppose we could try to put them together."
   ]
  },
  {
   "cell_type": "code",
   "execution_count": 229,
   "metadata": {},
   "outputs": [
    {
     "name": "stdout",
     "output_type": "stream",
     "text": [
      "kk&&&&b\n"
     ]
    }
   ],
   "source": [
    "x = symbolOrLetterList[0] * int(numberList[0])\n",
    "y = symbolOrLetterList[1] * int(numberList[1])\n",
    "z = symbolOrLetterList[2] * int(numberList[2])\n",
    "\n",
    "print(x+y+z)\n"
   ]
  },
  {
   "cell_type": "markdown",
   "metadata": {},
   "source": [
    "If that's a bit too nebulous, this is basically what we did:"
   ]
  },
  {
   "cell_type": "code",
   "execution_count": 230,
   "metadata": {},
   "outputs": [
    {
     "data": {
      "text/plain": [
       "'aa'"
      ]
     },
     "execution_count": 230,
     "metadata": {},
     "output_type": "execute_result"
    }
   ],
   "source": [
    "'a'*2 # We asked python to return string 'a' twice."
   ]
  },
  {
   "cell_type": "code",
   "execution_count": 231,
   "metadata": {},
   "outputs": [
    {
     "data": {
      "text/plain": [
       "'!!!!'"
      ]
     },
     "execution_count": 231,
     "metadata": {},
     "output_type": "execute_result"
    }
   ],
   "source": [
    "'!'*4 # We asked Python to return string '!' four times."
   ]
  },
  {
   "cell_type": "code",
   "execution_count": 232,
   "metadata": {},
   "outputs": [
    {
     "data": {
      "text/plain": [
       "'cccccc'"
      ]
     },
     "execution_count": 232,
     "metadata": {},
     "output_type": "execute_result"
    }
   ],
   "source": [
    "'c'*6 # We asked Python to return string 'c' six times."
   ]
  },
  {
   "cell_type": "markdown",
   "metadata": {},
   "source": [
    "To put it all together, we can actually concatenate it with the plus sign!"
   ]
  },
  {
   "cell_type": "code",
   "execution_count": 233,
   "metadata": {},
   "outputs": [
    {
     "data": {
      "text/plain": [
       "'aa!!!!cccccc'"
      ]
     },
     "execution_count": 233,
     "metadata": {},
     "output_type": "execute_result"
    }
   ],
   "source": [
    "('a'*2) + ('!'*4) + ('c'*6)"
   ]
  },
  {
   "cell_type": "markdown",
   "metadata": {},
   "source": [
    "### Another way to do it:"
   ]
  },
  {
   "cell_type": "code",
   "execution_count": 234,
   "metadata": {},
   "outputs": [],
   "source": [
    "result = map(lambda s, i: s*int(i), symbolOrLetterList, numberList)"
   ]
  },
  {
   "cell_type": "markdown",
   "metadata": {},
   "source": [
    "Let's take a peek at what the above code did:"
   ]
  },
  {
   "cell_type": "code",
   "execution_count": 235,
   "metadata": {},
   "outputs": [],
   "source": [
    "# print(list(result))"
   ]
  },
  {
   "cell_type": "markdown",
   "metadata": {},
   "source": [
    "This did a few things. It: \n",
    "* mapped each element in one list to each corresponding element in the other list\n",
    "* multiplied it\n",
    "* and packaged it up in a list named *result*."
   ]
  },
  {
   "cell_type": "markdown",
   "metadata": {},
   "source": [
    "Now, unfortunately, this output doesn't match our desired output.\n",
    ">**Desired output:** *kk&&&&b*\n",
    "\n",
    "What we have above is a list."
   ]
  },
  {
   "cell_type": "markdown",
   "metadata": {},
   "source": [
    "So, how can we make it a 'string'?\n",
    "\n",
    "What we can do is go through the list, character-by-character, then add it to a new string.\n",
    "\n",
    "We can create the variable that will hold the new string."
   ]
  },
  {
   "cell_type": "code",
   "execution_count": 236,
   "metadata": {},
   "outputs": [],
   "source": [
    "listToString = \"\" # We put two quotation marks there to let Python know that what we add to it\n",
    "# will be considered a 'string'"
   ]
  },
  {
   "cell_type": "markdown",
   "metadata": {},
   "source": [
    "To demonstrate, let's change the contents of this variable."
   ]
  },
  {
   "cell_type": "code",
   "execution_count": 237,
   "metadata": {},
   "outputs": [],
   "source": [
    "listToString = \"Hello!\""
   ]
  },
  {
   "cell_type": "code",
   "execution_count": 238,
   "metadata": {},
   "outputs": [
    {
     "name": "stdout",
     "output_type": "stream",
     "text": [
      "Hello!\n"
     ]
    }
   ],
   "source": [
    "print(listToString)"
   ]
  },
  {
   "cell_type": "markdown",
   "metadata": {},
   "source": [
    "We can modify a variable at any time."
   ]
  },
  {
   "cell_type": "code",
   "execution_count": 239,
   "metadata": {},
   "outputs": [
    {
     "name": "stdout",
     "output_type": "stream",
     "text": [
      "Hello, world!\n"
     ]
    }
   ],
   "source": [
    "listToString = \"Hello, world!\"\n",
    "print(listToString)"
   ]
  },
  {
   "cell_type": "markdown",
   "metadata": {},
   "source": [
    "Knowing that, we can add to our string, little-by-little.\n",
    "\n",
    "First, let's return the string to it's original, blank state:"
   ]
  },
  {
   "cell_type": "code",
   "execution_count": 240,
   "metadata": {},
   "outputs": [],
   "source": [
    "listToString = \"\""
   ]
  },
  {
   "cell_type": "markdown",
   "metadata": {},
   "source": [
    "Now, remember - we're trying to make a string out of the following: ['aa', '!!!!', 'cccccc'] which we arrived at above."
   ]
  },
  {
   "cell_type": "code",
   "execution_count": 241,
   "metadata": {},
   "outputs": [],
   "source": [
    "for x in list(result): # Iterating through each element in the list, assigning x to each element in turn.\n",
    "    listToString += x # Adding each element from the list to the string, one at a time."
   ]
  },
  {
   "cell_type": "code",
   "execution_count": 242,
   "metadata": {},
   "outputs": [
    {
     "name": "stdout",
     "output_type": "stream",
     "text": [
      "kk&&&&b\n"
     ]
    }
   ],
   "source": [
    "print(listToString)"
   ]
  },
  {
   "cell_type": "markdown",
   "metadata": {},
   "source": [
    "#### And there we have it!"
   ]
  },
  {
   "cell_type": "markdown",
   "metadata": {},
   "source": [
    "### Further explantation"
   ]
  },
  {
   "cell_type": "markdown",
   "metadata": {},
   "source": [
    "Here's a visualization of how we went from a list to a string."
   ]
  },
  {
   "cell_type": "code",
   "execution_count": 243,
   "metadata": {},
   "outputs": [
    {
     "name": "stdout",
     "output_type": "stream",
     "text": [
      "This is what the connectedStrings variable looks like after iteration number 1 : connectme\n",
      "This is what the connectedStrings variable looks like after iteration number 2 : connectmeconnectme\n",
      "This is what the connectedStrings variable looks like after iteration number 3 : connectmeconnectmeconnectme\n"
     ]
    }
   ],
   "source": [
    "exampleList = ['connectme', 'connectme', 'connectme'] # This is actually a list of strings.\n",
    "connectedStrings = \"\"\n",
    "\n",
    "iterationCount = 0 # This is just here to count the iterations for the purposes of the example.\n",
    "\n",
    "for eachword in exampleList:\n",
    "    connectedStrings += eachword\n",
    "    iterationCount += 1 # Each time an item is read and added, we increase the iterationCount by 1. \n",
    "    print(\"This is what the connectedStrings variable looks like after iteration number\",iterationCount,\":\", connectedStrings)"
   ]
  }
 ],
 "metadata": {
  "kernelspec": {
   "display_name": "Python 3",
   "language": "python",
   "name": "python3"
  },
  "language_info": {
   "codemirror_mode": {
    "name": "ipython",
    "version": 3
   },
   "file_extension": ".py",
   "mimetype": "text/x-python",
   "name": "python",
   "nbconvert_exporter": "python",
   "pygments_lexer": "ipython3",
   "version": "3.7.4"
  }
 },
 "nbformat": 4,
 "nbformat_minor": 2
}
